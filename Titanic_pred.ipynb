{
 "cells": [
  {
   "cell_type": "code",
   "execution_count": 5,
   "id": "701e35f8",
   "metadata": {},
   "outputs": [],
   "source": [
    "import seaborn as sns\n",
    "import pandas as pd\n",
    "import numpy as np"
   ]
  },
  {
   "cell_type": "code",
   "execution_count": 6,
   "id": "247a7c25",
   "metadata": {},
   "outputs": [],
   "source": [
    "train_data = pd.read_csv('train.csv')"
   ]
  },
  {
   "cell_type": "code",
   "execution_count": 7,
   "id": "ec8bcbbd",
   "metadata": {},
   "outputs": [],
   "source": [
    "test_data = pd.read_csv('test.csv')"
   ]
  },
  {
   "cell_type": "code",
   "execution_count": 8,
   "id": "64209de9",
   "metadata": {},
   "outputs": [
    {
     "data": {
      "text/html": [
       "<div>\n",
       "<style scoped>\n",
       "    .dataframe tbody tr th:only-of-type {\n",
       "        vertical-align: middle;\n",
       "    }\n",
       "\n",
       "    .dataframe tbody tr th {\n",
       "        vertical-align: top;\n",
       "    }\n",
       "\n",
       "    .dataframe thead th {\n",
       "        text-align: right;\n",
       "    }\n",
       "</style>\n",
       "<table border=\"1\" class=\"dataframe\">\n",
       "  <thead>\n",
       "    <tr style=\"text-align: right;\">\n",
       "      <th></th>\n",
       "      <th>PassengerId</th>\n",
       "      <th>Survived</th>\n",
       "      <th>Pclass</th>\n",
       "      <th>Name</th>\n",
       "      <th>Sex</th>\n",
       "      <th>Age</th>\n",
       "      <th>SibSp</th>\n",
       "      <th>Parch</th>\n",
       "      <th>Ticket</th>\n",
       "      <th>Fare</th>\n",
       "      <th>Cabin</th>\n",
       "      <th>Embarked</th>\n",
       "    </tr>\n",
       "  </thead>\n",
       "  <tbody>\n",
       "    <tr>\n",
       "      <th>0</th>\n",
       "      <td>1</td>\n",
       "      <td>0</td>\n",
       "      <td>3</td>\n",
       "      <td>Braund, Mr. Owen Harris</td>\n",
       "      <td>male</td>\n",
       "      <td>22.0</td>\n",
       "      <td>1</td>\n",
       "      <td>0</td>\n",
       "      <td>A/5 21171</td>\n",
       "      <td>7.2500</td>\n",
       "      <td>NaN</td>\n",
       "      <td>S</td>\n",
       "    </tr>\n",
       "    <tr>\n",
       "      <th>1</th>\n",
       "      <td>2</td>\n",
       "      <td>1</td>\n",
       "      <td>1</td>\n",
       "      <td>Cumings, Mrs. John Bradley (Florence Briggs Th...</td>\n",
       "      <td>female</td>\n",
       "      <td>38.0</td>\n",
       "      <td>1</td>\n",
       "      <td>0</td>\n",
       "      <td>PC 17599</td>\n",
       "      <td>71.2833</td>\n",
       "      <td>C85</td>\n",
       "      <td>C</td>\n",
       "    </tr>\n",
       "    <tr>\n",
       "      <th>2</th>\n",
       "      <td>3</td>\n",
       "      <td>1</td>\n",
       "      <td>3</td>\n",
       "      <td>Heikkinen, Miss. Laina</td>\n",
       "      <td>female</td>\n",
       "      <td>26.0</td>\n",
       "      <td>0</td>\n",
       "      <td>0</td>\n",
       "      <td>STON/O2. 3101282</td>\n",
       "      <td>7.9250</td>\n",
       "      <td>NaN</td>\n",
       "      <td>S</td>\n",
       "    </tr>\n",
       "    <tr>\n",
       "      <th>3</th>\n",
       "      <td>4</td>\n",
       "      <td>1</td>\n",
       "      <td>1</td>\n",
       "      <td>Futrelle, Mrs. Jacques Heath (Lily May Peel)</td>\n",
       "      <td>female</td>\n",
       "      <td>35.0</td>\n",
       "      <td>1</td>\n",
       "      <td>0</td>\n",
       "      <td>113803</td>\n",
       "      <td>53.1000</td>\n",
       "      <td>C123</td>\n",
       "      <td>S</td>\n",
       "    </tr>\n",
       "    <tr>\n",
       "      <th>4</th>\n",
       "      <td>5</td>\n",
       "      <td>0</td>\n",
       "      <td>3</td>\n",
       "      <td>Allen, Mr. William Henry</td>\n",
       "      <td>male</td>\n",
       "      <td>35.0</td>\n",
       "      <td>0</td>\n",
       "      <td>0</td>\n",
       "      <td>373450</td>\n",
       "      <td>8.0500</td>\n",
       "      <td>NaN</td>\n",
       "      <td>S</td>\n",
       "    </tr>\n",
       "  </tbody>\n",
       "</table>\n",
       "</div>"
      ],
      "text/plain": [
       "   PassengerId  Survived  Pclass  \\\n",
       "0            1         0       3   \n",
       "1            2         1       1   \n",
       "2            3         1       3   \n",
       "3            4         1       1   \n",
       "4            5         0       3   \n",
       "\n",
       "                                                Name     Sex   Age  SibSp  \\\n",
       "0                            Braund, Mr. Owen Harris    male  22.0      1   \n",
       "1  Cumings, Mrs. John Bradley (Florence Briggs Th...  female  38.0      1   \n",
       "2                             Heikkinen, Miss. Laina  female  26.0      0   \n",
       "3       Futrelle, Mrs. Jacques Heath (Lily May Peel)  female  35.0      1   \n",
       "4                           Allen, Mr. William Henry    male  35.0      0   \n",
       "\n",
       "   Parch            Ticket     Fare Cabin Embarked  \n",
       "0      0         A/5 21171   7.2500   NaN        S  \n",
       "1      0          PC 17599  71.2833   C85        C  \n",
       "2      0  STON/O2. 3101282   7.9250   NaN        S  \n",
       "3      0            113803  53.1000  C123        S  \n",
       "4      0            373450   8.0500   NaN        S  "
      ]
     },
     "execution_count": 8,
     "metadata": {},
     "output_type": "execute_result"
    }
   ],
   "source": [
    "train_data.head()"
   ]
  },
  {
   "cell_type": "code",
   "execution_count": 9,
   "id": "d069dd35",
   "metadata": {},
   "outputs": [],
   "source": [
    "cols = ['Name','Ticket','PassengerId']\n",
    "train_data.drop(cols,axis = 1,inplace = True)\n",
    "test_data.drop(cols,axis = 1,inplace = True)"
   ]
  },
  {
   "cell_type": "code",
   "execution_count": 10,
   "id": "1ef71598",
   "metadata": {},
   "outputs": [
    {
     "data": {
      "text/html": [
       "<div>\n",
       "<style scoped>\n",
       "    .dataframe tbody tr th:only-of-type {\n",
       "        vertical-align: middle;\n",
       "    }\n",
       "\n",
       "    .dataframe tbody tr th {\n",
       "        vertical-align: top;\n",
       "    }\n",
       "\n",
       "    .dataframe thead th {\n",
       "        text-align: right;\n",
       "    }\n",
       "</style>\n",
       "<table border=\"1\" class=\"dataframe\">\n",
       "  <thead>\n",
       "    <tr style=\"text-align: right;\">\n",
       "      <th></th>\n",
       "      <th>Survived</th>\n",
       "      <th>Pclass</th>\n",
       "      <th>Sex</th>\n",
       "      <th>Age</th>\n",
       "      <th>SibSp</th>\n",
       "      <th>Parch</th>\n",
       "      <th>Fare</th>\n",
       "      <th>Cabin</th>\n",
       "      <th>Embarked</th>\n",
       "    </tr>\n",
       "  </thead>\n",
       "  <tbody>\n",
       "    <tr>\n",
       "      <th>0</th>\n",
       "      <td>0</td>\n",
       "      <td>3</td>\n",
       "      <td>male</td>\n",
       "      <td>22.0</td>\n",
       "      <td>1</td>\n",
       "      <td>0</td>\n",
       "      <td>7.2500</td>\n",
       "      <td>NaN</td>\n",
       "      <td>S</td>\n",
       "    </tr>\n",
       "    <tr>\n",
       "      <th>1</th>\n",
       "      <td>1</td>\n",
       "      <td>1</td>\n",
       "      <td>female</td>\n",
       "      <td>38.0</td>\n",
       "      <td>1</td>\n",
       "      <td>0</td>\n",
       "      <td>71.2833</td>\n",
       "      <td>C85</td>\n",
       "      <td>C</td>\n",
       "    </tr>\n",
       "    <tr>\n",
       "      <th>2</th>\n",
       "      <td>1</td>\n",
       "      <td>3</td>\n",
       "      <td>female</td>\n",
       "      <td>26.0</td>\n",
       "      <td>0</td>\n",
       "      <td>0</td>\n",
       "      <td>7.9250</td>\n",
       "      <td>NaN</td>\n",
       "      <td>S</td>\n",
       "    </tr>\n",
       "    <tr>\n",
       "      <th>3</th>\n",
       "      <td>1</td>\n",
       "      <td>1</td>\n",
       "      <td>female</td>\n",
       "      <td>35.0</td>\n",
       "      <td>1</td>\n",
       "      <td>0</td>\n",
       "      <td>53.1000</td>\n",
       "      <td>C123</td>\n",
       "      <td>S</td>\n",
       "    </tr>\n",
       "    <tr>\n",
       "      <th>4</th>\n",
       "      <td>0</td>\n",
       "      <td>3</td>\n",
       "      <td>male</td>\n",
       "      <td>35.0</td>\n",
       "      <td>0</td>\n",
       "      <td>0</td>\n",
       "      <td>8.0500</td>\n",
       "      <td>NaN</td>\n",
       "      <td>S</td>\n",
       "    </tr>\n",
       "  </tbody>\n",
       "</table>\n",
       "</div>"
      ],
      "text/plain": [
       "   Survived  Pclass     Sex   Age  SibSp  Parch     Fare Cabin Embarked\n",
       "0         0       3    male  22.0      1      0   7.2500   NaN        S\n",
       "1         1       1  female  38.0      1      0  71.2833   C85        C\n",
       "2         1       3  female  26.0      0      0   7.9250   NaN        S\n",
       "3         1       1  female  35.0      1      0  53.1000  C123        S\n",
       "4         0       3    male  35.0      0      0   8.0500   NaN        S"
      ]
     },
     "execution_count": 10,
     "metadata": {},
     "output_type": "execute_result"
    }
   ],
   "source": [
    "train_data.head()"
   ]
  },
  {
   "cell_type": "code",
   "execution_count": 11,
   "id": "ef097808",
   "metadata": {},
   "outputs": [],
   "source": [
    "train_data['Embarked'].unique()\n",
    "label_map = { k:i  for i,k in enumerate(train_data['Embarked'].unique()) }"
   ]
  },
  {
   "cell_type": "code",
   "execution_count": 12,
   "id": "e668a48c",
   "metadata": {},
   "outputs": [],
   "source": [
    "train_data['Embarked'] = train_data['Embarked'].map(label_map)"
   ]
  },
  {
   "cell_type": "code",
   "execution_count": 13,
   "id": "00eec913",
   "metadata": {},
   "outputs": [],
   "source": [
    "test_data['Embarked'] = test_data['Embarked'].map(label_map)"
   ]
  },
  {
   "cell_type": "code",
   "execution_count": 14,
   "id": "1fb04b5c",
   "metadata": {},
   "outputs": [],
   "source": [
    "train_data['Sex'] = np.where(train_data['Sex'] == 'male' ,0,1)\n",
    "test_data['Sex'] = np.where(test_data['Sex'] == 'male' ,0,1) "
   ]
  },
  {
   "cell_type": "markdown",
   "id": "b3459c0b",
   "metadata": {},
   "source": [
    "1. Encode Cabin column \n",
    "2. fillna for age \n",
    "3. fillna for fare (test)\n"
   ]
  },
  {
   "cell_type": "code",
   "execution_count": 15,
   "id": "ddb20cc8",
   "metadata": {},
   "outputs": [],
   "source": [
    "label = {k:i for i,k in enumerate(train_data['Cabin'].unique())}\n",
    "train_data['Cabin'] = train_data['Cabin'].map(label)\n",
    "test_data['Cabin'] = test_data['Cabin'].map(label)"
   ]
  },
  {
   "cell_type": "code",
   "execution_count": 16,
   "id": "4311a5a7",
   "metadata": {},
   "outputs": [],
   "source": [
    "test_data['Cabin'].fillna(value=0,inplace = True)"
   ]
  },
  {
   "cell_type": "code",
   "execution_count": 17,
   "id": "f2073dab",
   "metadata": {},
   "outputs": [],
   "source": [
    "train_data['Age'].fillna(value=train_data['Age'].mean(),inplace = True)\n",
    "test_data['Age'].fillna(value=test_data['Age'].mean(),inplace = True)"
   ]
  },
  {
   "cell_type": "code",
   "execution_count": 18,
   "id": "072a691e",
   "metadata": {},
   "outputs": [],
   "source": [
    "train_data['Fare'].fillna(value=train_data['Fare'].mean(),inplace = True)\n",
    "test_data['Fare'].fillna(value=test_data['Fare'].mean(),inplace = True)"
   ]
  },
  {
   "cell_type": "code",
   "execution_count": 19,
   "id": "6bf94c6f",
   "metadata": {},
   "outputs": [],
   "source": [
    "from sklearn.feature_selection import chi2"
   ]
  },
  {
   "cell_type": "code",
   "execution_count": 20,
   "id": "2007076b",
   "metadata": {},
   "outputs": [],
   "source": [
    "p = chi2(train_data['Embarked'].to_numpy().reshape(-1,1),train_data['Survived'].to_numpy().reshape(-1,1))[1]\n",
    "kbest = {'Embarked' : p[0]}\n",
    "p = chi2(train_data['Pclass'].to_numpy().reshape(-1,1),train_data['Survived'].to_numpy().reshape(-1,1))[1]\n",
    "kbest['Pclass'] = p[0]\n",
    "p = chi2(train_data['Sex'].to_numpy().reshape(-1,1),train_data['Survived'].to_numpy().reshape(-1,1))[1]\n",
    "kbest['Sex']=  p[0]\n",
    "p = chi2(train_data['Cabin'].to_numpy().reshape(-1,1),train_data['Survived'].to_numpy().reshape(-1,1))[1]\n",
    "kbest['Cabin']=  p[0]"
   ]
  },
  {
   "cell_type": "code",
   "execution_count": 21,
   "id": "c25c9c81",
   "metadata": {},
   "outputs": [
    {
     "data": {
      "text/plain": [
       "{'Embarked': 0.0001711228156936033,\n",
       " 'Pclass': 2.7537856320284722e-08,\n",
       " 'Sex': 6.210584899769243e-39,\n",
       " 'Cabin': 0.0}"
      ]
     },
     "execution_count": 21,
     "metadata": {},
     "output_type": "execute_result"
    }
   ],
   "source": [
    "kbest"
   ]
  },
  {
   "cell_type": "code",
   "execution_count": 22,
   "id": "2c0b6e24",
   "metadata": {},
   "outputs": [
    {
     "data": {
      "image/png": "[encoded data removed]",
      "text/plain": [
       "<Figure size 864x864 with 2 Axes>"
      ]
     },
     "metadata": {
      "needs_background": "light"
     },
     "output_type": "display_data"
    }
   ],
   "source": [
    "import matplotlib.pyplot as plt\n",
    "plt.figure(figsize=(12,12))\n",
    "sns.heatmap(train_data.corr(),annot=True)\n",
    "plt.show()"
   ]
  },
  {
   "cell_type": "code",
   "execution_count": 23,
   "id": "169e578b",
   "metadata": {},
   "outputs": [],
   "source": [
    "# high correlation between cabin and pclass droping cabin \n",
    "train_data.drop('Cabin',axis = 1,inplace = True)\n",
    "test_data.drop('Cabin',axis = 1,inplace = True)"
   ]
  },
  {
   "cell_type": "code",
   "execution_count": 24,
   "id": "f9663c9a",
   "metadata": {},
   "outputs": [],
   "source": [
    "y = train_data['Survived'].to_numpy()\n",
    "coli = ['Pclass','Sex','Age','SibSp','Parch','Fare','Embarked']\n",
    "x = train_data[coli].to_numpy()"
   ]
  },
  {
   "cell_type": "code",
   "execution_count": 25,
   "id": "3280cf0c",
   "metadata": {},
   "outputs": [],
   "source": [
    "mu = np.mean(x,axis = 0)\n",
    "sd = np.std(x,axis = 0)\n",
    "x_ = (x-mu)/sd"
   ]
  },
  {
   "cell_type": "code",
   "execution_count": 26,
   "id": "42f712a6",
   "metadata": {},
   "outputs": [],
   "source": [
    "from keras import models\n",
    "from keras.layers import Dense"
   ]
  },
  {
   "cell_type": "code",
   "execution_count": 35,
   "id": "37a41977",
   "metadata": {},
   "outputs": [],
   "source": [
    "model = models.Sequential()\n",
    "model.add(Dense(7,'relu',input_shape=(7,)))\n",
    "\n",
    "model.add(Dense(1,'sigmoid'))"
   ]
  },
  {
   "cell_type": "code",
   "execution_count": 36,
   "id": "d55a4e2c",
   "metadata": {},
   "outputs": [],
   "source": [
    "model.compile(optimizer = 'adam', loss = 'binary_crossentropy', metrics = ['accuracy'])"
   ]
  },
  {
   "cell_type": "code",
   "execution_count": 37,
   "id": "df8ac493",
   "metadata": {},
   "outputs": [
    {
     "name": "stdout",
     "output_type": "stream",
     "text": [
      "Epoch 1/20\n",
      "45/45 [==============================] - 0s 1ms/step - loss: 0.6454 - accuracy: 0.6745\n",
      "Epoch 2/20\n",
      "45/45 [==============================] - 0s 2ms/step - loss: 0.6014 - accuracy: 0.7071\n",
      "Epoch 3/20\n",
      "45/45 [==============================] - 0s 2ms/step - loss: 0.5681 - accuracy: 0.7419\n",
      "Epoch 4/20\n",
      "45/45 [==============================] - 0s 2ms/step - loss: 0.5408 - accuracy: 0.7542\n",
      "Epoch 5/20\n",
      "45/45 [==============================] - 0s 2ms/step - loss: 0.5185 - accuracy: 0.7576\n",
      "Epoch 6/20\n",
      "45/45 [==============================] - 0s 1ms/step - loss: 0.5015 - accuracy: 0.7699\n",
      "Epoch 7/20\n",
      "45/45 [==============================] - 0s 2ms/step - loss: 0.4877 - accuracy: 0.7991\n",
      "Epoch 8/20\n",
      "45/45 [==============================] - 0s 2ms/step - loss: 0.4770 - accuracy: 0.8013\n",
      "Epoch 9/20\n",
      "45/45 [==============================] - 0s 2ms/step - loss: 0.4682 - accuracy: 0.8036\n",
      "Epoch 10/20\n",
      "45/45 [==============================] - 0s 1ms/step - loss: 0.4607 - accuracy: 0.8070\n",
      "Epoch 11/20\n",
      "45/45 [==============================] - 0s 1ms/step - loss: 0.4553 - accuracy: 0.8081\n",
      "Epoch 12/20\n",
      "45/45 [==============================] - 0s 2ms/step - loss: 0.4503 - accuracy: 0.8081\n",
      "Epoch 13/20\n",
      "45/45 [==============================] - 0s 2ms/step - loss: 0.4460 - accuracy: 0.8058\n",
      "Epoch 14/20\n",
      "45/45 [==============================] - 0s 2ms/step - loss: 0.4427 - accuracy: 0.8058\n",
      "Epoch 15/20\n",
      "45/45 [==============================] - 0s 2ms/step - loss: 0.4395 - accuracy: 0.8058\n",
      "Epoch 16/20\n",
      "45/45 [==============================] - 0s 2ms/step - loss: 0.4366 - accuracy: 0.8047\n",
      "Epoch 17/20\n",
      "45/45 [==============================] - 0s 2ms/step - loss: 0.4342 - accuracy: 0.8081\n",
      "Epoch 18/20\n",
      "45/45 [==============================] - 0s 2ms/step - loss: 0.4322 - accuracy: 0.8058\n",
      "Epoch 19/20\n",
      "45/45 [==============================] - 0s 2ms/step - loss: 0.4300 - accuracy: 0.8092\n",
      "Epoch 20/20\n",
      "45/45 [==============================] - 0s 2ms/step - loss: 0.4282 - accuracy: 0.8182\n"
     ]
    }
   ],
   "source": [
    "hist = model.fit(x_,y,epochs = 20, batch_size = 20)"
   ]
  },
  {
   "cell_type": "code",
   "execution_count": 38,
   "id": "3f4bb54a",
   "metadata": {},
   "outputs": [
    {
     "data": {
      "image/png": "[encoded data removed]",
      "text/plain": [
       "<Figure size 432x288 with 1 Axes>"
      ]
     },
     "metadata": {
      "needs_background": "light"
     },
     "output_type": "display_data"
    }
   ],
   "source": [
    "plt.plot(hist.history['loss'])\n",
    "plt.show()"
   ]
  },
  {
   "cell_type": "code",
   "execution_count": 39,
   "id": "c5f10bd4",
   "metadata": {},
   "outputs": [
    {
     "name": "stdout",
     "output_type": "stream",
     "text": [
      "28/28 [==============================] - 0s 888us/step - loss: 0.4266 - accuracy: 0.8193\n"
     ]
    },
    {
     "data": {
      "text/plain": [
       "0.8193041682243347"
      ]
     },
     "execution_count": 39,
     "metadata": {},
     "output_type": "execute_result"
    }
   ],
   "source": [
    "model.evaluate(x_,y)[1]"
   ]
  },
  {
   "cell_type": "code",
   "execution_count": 40,
   "id": "3e30f686",
   "metadata": {},
   "outputs": [],
   "source": [
    "#y_test = test_data['Survived']\n",
    "y_test = pd.read_csv('ytest.csv').drop('PassengerId',axis = 1).to_numpy().flatten()\n",
    "xt = test_data[coli].to_numpy()\n",
    "x_test = (xt-mu)/sd"
   ]
  },
  {
   "cell_type": "code",
   "execution_count": null,
   "id": "2a756e75",
   "metadata": {},
   "outputs": [],
   "source": []
  },
  {
   "cell_type": "code",
   "execution_count": 41,
   "id": "e8890b0c",
   "metadata": {},
   "outputs": [
    {
     "name": "stdout",
     "output_type": "stream",
     "text": [
      "14/14 [==============================] - 0s 2ms/step - loss: 0.2903 - accuracy: 0.9354\n"
     ]
    },
    {
     "data": {
      "text/plain": [
       "0.9354066848754883"
      ]
     },
     "execution_count": 41,
     "metadata": {},
     "output_type": "execute_result"
    }
   ],
   "source": [
    "model.evaluate(x_test,y_test)[1]"
   ]
  },
  {
   "cell_type": "code",
   "execution_count": 42,
   "id": "9368c1f7",
   "metadata": {},
   "outputs": [],
   "source": [
    "# with ANN got an accuracy of about 80-85 on training set and 90-95 on test set "
   ]
  },
  {
   "cell_type": "code",
   "execution_count": 43,
   "id": "56223bfe",
   "metadata": {},
   "outputs": [],
   "source": [
    "# Trying a simple logistic regression on the dataset "
   ]
  },
  {
   "cell_type": "code",
   "execution_count": 44,
   "id": "da596e41",
   "metadata": {},
   "outputs": [],
   "source": [
    "def sigmoid(x):\n",
    "    an = 1/(1+np.exp(-x))\n",
    "    return an\n",
    "\n",
    "class LogisticRegression:\n",
    "    def __init__(self,n_feature,x):\n",
    "        np.random.seed(43)\n",
    "        self.w = np.random.randn(n_feature+1,1)\n",
    "        self.m = x.shape[0]\n",
    "        self.x_ = np.concatenate([np.ones((self.m,1)),x],axis = 1)\n",
    "    def forward(self):\n",
    "        y_ = sigmoid(np.dot(self.x_,self.w))\n",
    "        return y_\n",
    "    def train(self,x,y,learn_rate):\n",
    "        y = y.reshape(-1,1)\n",
    "        yp = self.forward()\n",
    "        ls = (-y.T.dot(np.log(yp)) - ((1-y).T.dot(np.log(1-yp))))/self.m\n",
    "        grad = self.x_.T.dot((yp - y))/self.m\n",
    "        self.w = self.w - learn_rate*grad\n",
    "        return ls\n",
    "    def pred(self,x):\n",
    "        m = x.shape[0]\n",
    "        xt = np.concatenate([np.ones((m,1)),x],axis = 1)\n",
    "        y_pred = sigmoid(np.dot(xt,self.w))\n",
    "        return y_pred"
   ]
  },
  {
   "cell_type": "code",
   "execution_count": null,
   "id": "27544e45",
   "metadata": {},
   "outputs": [],
   "source": []
  },
  {
   "cell_type": "code",
   "execution_count": 45,
   "id": "aa03096c",
   "metadata": {},
   "outputs": [],
   "source": [
    "obj = LogisticRegression(n_feature=7,x=x_)"
   ]
  },
  {
   "cell_type": "code",
   "execution_count": 46,
   "id": "4b127410",
   "metadata": {},
   "outputs": [],
   "source": [
    "from tqdm import tqdm\n",
    "\n",
    "def train_red(obj,x_,y,learn,epochs):\n",
    "    los_log = []\n",
    "    for i in tqdm(range(epochs)):\n",
    "        ls = obj.train(x_,y,learn)[0][0]\n",
    "        los_log.append(ls)\n",
    "    plt.plot(los_log)\n",
    "    plt.show()\n",
    "    return los_log"
   ]
  },
  {
   "cell_type": "code",
   "execution_count": 47,
   "id": "64ce546f",
   "metadata": {},
   "outputs": [
    {
     "name": "stderr",
     "output_type": "stream",
     "text": [
      "100%|█████████████████████████████████████████████████████████████████████████████| 200/200 [00:00<00:00, 22339.83it/s]\n"
     ]
    },
    {
     "data": {
      "image/png": "[encoded data removed]",
      "text/plain": [
       "<Figure size 432x288 with 1 Axes>"
      ]
     },
     "metadata": {
      "needs_background": "light"
     },
     "output_type": "display_data"
    }
   ],
   "source": [
    "log = train_red(obj,x_,y,0.1,200)"
   ]
  },
  {
   "cell_type": "code",
   "execution_count": 48,
   "id": "65357f0b",
   "metadata": {},
   "outputs": [],
   "source": [
    "def accu(x,y):\n",
    "    pred = obj.pred(x)\n",
    "    pred = (pred.flatten()>=0.5)\n",
    "    ac = np.sum( (pred==y)  )/len(y)\n",
    "    print('The accuracy on this set is: ',ac)"
   ]
  },
  {
   "cell_type": "code",
   "execution_count": 49,
   "id": "0786080b",
   "metadata": {},
   "outputs": [
    {
     "name": "stdout",
     "output_type": "stream",
     "text": [
      "The accuracy on this set is:  0.8002244668911336\n"
     ]
    }
   ],
   "source": [
    "accu(x_,y)  #Training Set Performance "
   ]
  },
  {
   "cell_type": "code",
   "execution_count": 50,
   "id": "d5c066ca",
   "metadata": {},
   "outputs": [
    {
     "name": "stdout",
     "output_type": "stream",
     "text": [
      "The accuracy on this set is:  0.9330143540669856\n"
     ]
    }
   ],
   "source": [
    "accu(x_test,y_test)    #Test Set performance "
   ]
  },
  {
   "cell_type": "code",
   "execution_count": 51,
   "id": "5800cf07",
   "metadata": {},
   "outputs": [],
   "source": [
    "#this is prety much same as NN preformace "
   ]
  },
  {
   "cell_type": "markdown",
   "id": "ac9670e0",
   "metadata": {},
   "source": [
    "Now trying Decision Tree clssifier \n",
    "for the first time"
   ]
  },
  {
   "cell_type": "code",
   "execution_count": 52,
   "id": "f3dffe64",
   "metadata": {},
   "outputs": [],
   "source": [
    "def entropy (column):\n",
    "    pall = np.unique(column,return_counts=True)[1]\n",
    "    N = float(column.shape[0])\n",
    "    entr = 0.0\n",
    "    for ix in pall:\n",
    "        prob = ix/N\n",
    "        entr += -prob*np.log2(prob)\n",
    "    return entr\n",
    "        "
   ]
  },
  {
   "cell_type": "code",
   "execution_count": 53,
   "id": "01be1163",
   "metadata": {},
   "outputs": [],
   "source": [
    "def divide_data(data,col,fval):\n",
    "    left = pd.DataFrame(columns=data.columns)\n",
    "    right =  pd.DataFrame(columns=data.columns)\n",
    "    for i in range(data.shape[0]):\n",
    "        val = data[col].loc[i]\n",
    "        if val > fval:\n",
    "            right = right.append(data.loc[i])\n",
    "        else:\n",
    "            left = left.append(data.loc[i])\n",
    "    return right,left"
   ]
  },
  {
   "cell_type": "code",
   "execution_count": 54,
   "id": "e710b032",
   "metadata": {},
   "outputs": [],
   "source": [
    "def Information_gain(data,ix,target_col):\n",
    "    right_data,left_data = divide_data(data,ix,data[ix].mean())\n",
    "    nr = float(right_data.shape[0]/data.shape[0])\n",
    "    nl = float(left_data.shape[0]/data.shape[0])\n",
    "    if nr == 0 or nl == 0:\n",
    "        return -1e4\n",
    "    ig = entropy(data[target_col].values) - (nr*entropy(right_data[target_col].values) + nl*entropy(left_data[target_col].values))\n",
    "    return ig\n",
    "        "
   ]
  },
  {
   "cell_type": "code",
   "execution_count": 55,
   "id": "803a77b5",
   "metadata": {},
   "outputs": [],
   "source": [
    "cols = ['Pclass', 'Sex', 'Age', 'SibSp', 'Parch', 'Fare', 'Embarked']"
   ]
  },
  {
   "cell_type": "code",
   "execution_count": 56,
   "id": "c48ec48e",
   "metadata": {},
   "outputs": [
    {
     "data": {
      "text/plain": [
       "0.2176601066606142"
      ]
     },
     "execution_count": 56,
     "metadata": {},
     "output_type": "execute_result"
    }
   ],
   "source": [
    "Information_gain(train_data,'Sex','Survived')"
   ]
  },
  {
   "cell_type": "code",
   "execution_count": 57,
   "id": "d103b1fb",
   "metadata": {},
   "outputs": [
    {
     "data": {
      "text/plain": [
       "{'Pclass': 0.07579362743608165,\n",
       " 'Sex': 0.2176601066606142,\n",
       " 'Age': 0.0008836151229467681,\n",
       " 'SibSp': 0.009584541813400071,\n",
       " 'Parch': 0.015380754493137694,\n",
       " 'Fare': 0.042140692838995464,\n",
       " 'Embarked': 0.01720377994142208}"
      ]
     },
     "execution_count": 57,
     "metadata": {},
     "output_type": "execute_result"
    }
   ],
   "source": [
    "label = {}\n",
    "target_col = 'Survived'\n",
    "for ix in cols:\n",
    "    label[ix] = Information_gain(train_data,ix,target_col)\n",
    "label"
   ]
  },
  {
   "cell_type": "code",
   "execution_count": 58,
   "id": "3d2976a6",
   "metadata": {},
   "outputs": [
    {
     "data": {
      "text/plain": [
       "0.9607079018756469"
      ]
     },
     "execution_count": 58,
     "metadata": {},
     "output_type": "execute_result"
    }
   ],
   "source": [
    "entropy(train_data['Survived'].values)"
   ]
  },
  {
   "cell_type": "code",
   "execution_count": 59,
   "id": "72abbf18",
   "metadata": {},
   "outputs": [],
   "source": [
    "class DecisionTree:\n",
    "    def __init__(self,depth = 0, max_depth = 6):\n",
    "        self.left = None\n",
    "        self.right = None\n",
    "        self.depth = depth\n",
    "        self.max_depth = max_depth\n",
    "        self.target = None\n",
    "        self.fkey = None\n",
    "        self.fval = None\n",
    "    def train(self,x):\n",
    "        cols = ['Pclass', 'Sex', 'Age', 'SibSp', 'Parch', 'Fare', 'Embarked']\n",
    "        info_gain = []\n",
    "        for ix in cols:\n",
    "            ig = Information_gain(x,ix,target_col)\n",
    "            info_gain.append(ig)\n",
    "        self.fkey = cols[np.argmax(info_gain)]\n",
    "        self.fval = x[self.fkey].mean()\n",
    "#         print('Current key is: {} and depth is: {} '.format(self.fkey,self.depth) )\n",
    "        x_right,x_left = divide_data(x,self.fkey,self.fval)\n",
    "        \n",
    "        x_right = x_right.reset_index(drop=True)\n",
    "        x_left = x_left.reset_index(drop=True)\n",
    "        \n",
    "        if x_right.shape[0] == 0 or x_left.shape[0] == 0:\n",
    "            if x[target_col].mean() > 0.5:\n",
    "                self.target = 'Survive'\n",
    "            else:\n",
    "                self.target = 'Dead'\n",
    "            return \n",
    "        \n",
    "        if self.depth >= self.max_depth:\n",
    "            if x[target_col].mean() > 0.5:\n",
    "                self.target = 'Survive'\n",
    "            else:\n",
    "                self.target = 'Dead'\n",
    "            return \n",
    "        \n",
    "        self.right = DecisionTree(depth=self.depth+1,max_depth=self.max_depth)\n",
    "        self.right.train(x_right)\n",
    "        \n",
    "        self.left = DecisionTree(depth=self.depth+1,max_depth=self.max_depth)\n",
    "        self.left.train(x_left)\n",
    "        \n",
    "        if x[target_col].mean() > 0.5:\n",
    "            self.target = 'Survive'\n",
    "        else:\n",
    "            self.target = 'Dead'\n",
    "    \n",
    "    def predict(self,test):\n",
    "        if test[self.fkey] > self.fval:\n",
    "            if self.right is None:\n",
    "                return self.target\n",
    "            else:\n",
    "                return self.right.predict(test)\n",
    "        else:\n",
    "            if self.left is None:\n",
    "                return self.target\n",
    "            else:\n",
    "                return self.left.predict(test)\n",
    "            \n",
    "        \n",
    "            \n",
    "        \n",
    "        "
   ]
  },
  {
   "cell_type": "code",
   "execution_count": 60,
   "id": "c9fb0c32",
   "metadata": {},
   "outputs": [],
   "source": [
    "dt = DecisionTree(max_depth=7)"
   ]
  },
  {
   "cell_type": "code",
   "execution_count": 61,
   "id": "d543da82",
   "metadata": {},
   "outputs": [],
   "source": [
    "dt.train(train_data)"
   ]
  },
  {
   "cell_type": "code",
   "execution_count": 62,
   "id": "12c9406a",
   "metadata": {},
   "outputs": [
    {
     "name": "stdout",
     "output_type": "stream",
     "text": [
      "Accuracy on train set  0.8787878787878788\n"
     ]
    }
   ],
   "source": [
    "ypred = []\n",
    "for ix in range(train_data.shape[0]):\n",
    "    pid = dt.predict(train_data.loc[ix])\n",
    "    ypred.append(pid)\n",
    "\n",
    "ypred = np.array(ypred)\n",
    "ypred = np.where(ypred == 'Dead',0,1)\n",
    "y_train = train_data[target_col].values\n",
    "acc = np.sum(ypred == y_train)/len(y_train)\n",
    "\n",
    "print('Accuracy on train set ',acc)"
   ]
  },
  {
   "cell_type": "code",
   "execution_count": null,
   "id": "6d0cb7e7",
   "metadata": {},
   "outputs": [],
   "source": []
  },
  {
   "cell_type": "code",
   "execution_count": 63,
   "id": "9d29d9ab",
   "metadata": {},
   "outputs": [
    {
     "name": "stdout",
     "output_type": "stream",
     "text": [
      "Accuracy on Test data:  0.854066985645933\n"
     ]
    }
   ],
   "source": [
    "ypred = []\n",
    "for ix in range(test_data.shape[0]):\n",
    "    pid = dt.predict(test_data.loc[ix])\n",
    "    ypred.append(pid)\n",
    "ypred = np.array(ypred)\n",
    "ypred = np.where(ypred == 'Dead',0,1)\n",
    "acc = np.sum(ypred == y_test)/len(y_test)\n",
    "print('Accuracy on Test data: ',acc)"
   ]
  },
  {
   "cell_type": "code",
   "execution_count": 64,
   "id": "708bb4a5",
   "metadata": {},
   "outputs": [],
   "source": [
    "# Neural Network performs better on test set i e it generalizes better"
   ]
  },
  {
   "cell_type": "code",
   "execution_count": 65,
   "id": "0de52424",
   "metadata": {},
   "outputs": [],
   "source": [
    "from sklearn.tree import DecisionTreeClassifier"
   ]
  },
  {
   "cell_type": "code",
   "execution_count": 66,
   "id": "2a12259a",
   "metadata": {},
   "outputs": [
    {
     "data": {
      "text/plain": [
       "DecisionTreeClassifier(criterion='entropy', max_depth=8,\n",
       "                       min_impurity_decrease=0.01)"
      ]
     },
     "execution_count": 66,
     "metadata": {},
     "output_type": "execute_result"
    }
   ],
   "source": [
    "dec = DecisionTreeClassifier(criterion='entropy',max_depth=8,min_impurity_decrease=0.01)\n",
    "dec.fit(train_data[cols],train_data[target_col])"
   ]
  },
  {
   "cell_type": "code",
   "execution_count": 67,
   "id": "2e0a2228",
   "metadata": {},
   "outputs": [
    {
     "data": {
      "text/plain": [
       "0.8305274971941639"
      ]
     },
     "execution_count": 67,
     "metadata": {},
     "output_type": "execute_result"
    }
   ],
   "source": [
    "dec.score(train_data[cols],train_data[target_col])  #accu on training set "
   ]
  },
  {
   "cell_type": "code",
   "execution_count": 68,
   "id": "e47aa942",
   "metadata": {},
   "outputs": [
    {
     "data": {
      "text/plain": [
       "0.9545454545454546"
      ]
     },
     "execution_count": 68,
     "metadata": {},
     "output_type": "execute_result"
    }
   ],
   "source": [
    "dec.score(test_data[cols],y_test)                  #accu on test set "
   ]
  },
  {
   "cell_type": "code",
   "execution_count": 69,
   "id": "0e2e6a70",
   "metadata": {},
   "outputs": [],
   "source": [
    "from sklearn.ensemble import RandomForestClassifier"
   ]
  },
  {
   "cell_type": "code",
   "execution_count": 78,
   "id": "6c4d0985",
   "metadata": {},
   "outputs": [],
   "source": [
    "rf = RandomForestClassifier(n_estimators=15,criterion = 'entropy',max_depth=5)"
   ]
  },
  {
   "cell_type": "code",
   "execution_count": 79,
   "id": "36639220",
   "metadata": {},
   "outputs": [
    {
     "data": {
      "text/plain": [
       "RandomForestClassifier(criterion='entropy', max_depth=5, n_estimators=15)"
      ]
     },
     "execution_count": 79,
     "metadata": {},
     "output_type": "execute_result"
    }
   ],
   "source": [
    "rf.fit(train_data[cols],train_data[target_col])"
   ]
  },
  {
   "cell_type": "code",
   "execution_count": 80,
   "id": "0c62e01d",
   "metadata": {},
   "outputs": [
    {
     "name": "stdout",
     "output_type": "stream",
     "text": [
      "0.8383838383838383\n",
      "0.9043062200956937\n"
     ]
    }
   ],
   "source": [
    "print ( rf.score(train_data[cols],train_data[target_col]) ) \n",
    "print( rf.score(test_data[cols],y_test) )"
   ]
  },
  {
   "cell_type": "code",
   "execution_count": 81,
   "id": "a55d8198",
   "metadata": {},
   "outputs": [],
   "source": [
    "#implimenting with CV set "
   ]
  },
  {
   "cell_type": "code",
   "execution_count": 180,
   "id": "9f9f5e33",
   "metadata": {},
   "outputs": [],
   "source": [
    "from sklearn.utils import shuffle\n",
    "train_data = shuffle(train_data).reset_index(drop = True)"
   ]
  },
  {
   "cell_type": "code",
   "execution_count": 181,
   "id": "aad445e8",
   "metadata": {},
   "outputs": [],
   "source": [
    "split = int (train_data.shape[0]*0.7)\n",
    "x_train = train_data[:split]\n",
    "x_cv = train_data[split:]\n",
    "x_cv = x_test.reset_index(drop = True)"
   ]
  },
  {
   "cell_type": "code",
   "execution_count": 182,
   "id": "104c7af2",
   "metadata": {},
   "outputs": [],
   "source": [
    "x_train_nor = x_train[cols].to_numpy()\n",
    "y_train = x_train[target_col].values\n",
    "\n",
    "mu = np.mean(x_train_nor,axis = 0)\n",
    "sd = np.std(x_train_nor,axis = 0)\n",
    "x_train_nor = (x_train_nor-mu)/sd\n",
    "\n",
    "xcv = x_cv[cols].to_numpy()\n",
    "ycv = x_cv[target_col].values\n",
    "\n",
    "# mu = np.mean(xcv,axis = 0)\n",
    "# sd = np.std(xcv,axis = 0)\n",
    "xcv = (xcv-mu)/sd"
   ]
  },
  {
   "cell_type": "code",
   "execution_count": null,
   "id": "8448a313",
   "metadata": {},
   "outputs": [],
   "source": []
  },
  {
   "cell_type": "code",
   "execution_count": 197,
   "id": "52137004",
   "metadata": {},
   "outputs": [],
   "source": [
    "mdl = models.Sequential()\n",
    "mdl.add(Dense(7,'relu',input_shape=(7,)))\n",
    "mdl.add(Dense(1,'sigmoid'))\n",
    "mdl.compile(optimizer='adam',loss='binary_crossentropy',metrics = ['accuracy'])"
   ]
  },
  {
   "cell_type": "code",
   "execution_count": 198,
   "id": "637d8fb5",
   "metadata": {},
   "outputs": [
    {
     "name": "stdout",
     "output_type": "stream",
     "text": [
      "Epoch 1/30\n",
      "125/125 [==============================] - 1s 2ms/step - loss: 0.6842 - accuracy: 0.6453 - val_loss: 0.6522 - val_accuracy: 0.6119\n",
      "Epoch 2/30\n",
      "125/125 [==============================] - 0s 2ms/step - loss: 0.6024 - accuracy: 0.6902 - val_loss: 0.5904 - val_accuracy: 0.6940\n",
      "Epoch 3/30\n",
      "125/125 [==============================] - 0s 2ms/step - loss: 0.5529 - accuracy: 0.7528 - val_loss: 0.5535 - val_accuracy: 0.7388\n",
      "Epoch 4/30\n",
      "125/125 [==============================] - 0s 2ms/step - loss: 0.5203 - accuracy: 0.7721 - val_loss: 0.5266 - val_accuracy: 0.7463\n",
      "Epoch 5/30\n",
      "125/125 [==============================] - 0s 2ms/step - loss: 0.4950 - accuracy: 0.7897 - val_loss: 0.5068 - val_accuracy: 0.7761\n",
      "Epoch 6/30\n",
      "125/125 [==============================] - 0s 2ms/step - loss: 0.4761 - accuracy: 0.7994 - val_loss: 0.4916 - val_accuracy: 0.7873\n",
      "Epoch 7/30\n",
      "125/125 [==============================] - 0s 2ms/step - loss: 0.4629 - accuracy: 0.8138 - val_loss: 0.4827 - val_accuracy: 0.7985\n",
      "Epoch 8/30\n",
      "125/125 [==============================] - 0s 2ms/step - loss: 0.4536 - accuracy: 0.8170 - val_loss: 0.4753 - val_accuracy: 0.8022\n",
      "Epoch 9/30\n",
      "125/125 [==============================] - 0s 2ms/step - loss: 0.4457 - accuracy: 0.8154 - val_loss: 0.4707 - val_accuracy: 0.8060\n",
      "Epoch 10/30\n",
      "125/125 [==============================] - 0s 2ms/step - loss: 0.4399 - accuracy: 0.8122 - val_loss: 0.4655 - val_accuracy: 0.8209\n",
      "Epoch 11/30\n",
      "125/125 [==============================] - 0s 2ms/step - loss: 0.4358 - accuracy: 0.8154 - val_loss: 0.4627 - val_accuracy: 0.8246\n",
      "Epoch 12/30\n",
      "125/125 [==============================] - 0s 2ms/step - loss: 0.4315 - accuracy: 0.8122 - val_loss: 0.4600 - val_accuracy: 0.8321\n",
      "Epoch 13/30\n",
      "125/125 [==============================] - 0s 2ms/step - loss: 0.4279 - accuracy: 0.8170 - val_loss: 0.4568 - val_accuracy: 0.8284\n",
      "Epoch 14/30\n",
      "125/125 [==============================] - 0s 2ms/step - loss: 0.4244 - accuracy: 0.8154 - val_loss: 0.4530 - val_accuracy: 0.8172\n",
      "Epoch 15/30\n",
      "125/125 [==============================] - 0s 2ms/step - loss: 0.4217 - accuracy: 0.8106 - val_loss: 0.4508 - val_accuracy: 0.8172\n",
      "Epoch 16/30\n",
      "125/125 [==============================] - 0s 2ms/step - loss: 0.4185 - accuracy: 0.8106 - val_loss: 0.4485 - val_accuracy: 0.8246\n",
      "Epoch 17/30\n",
      "125/125 [==============================] - 0s 2ms/step - loss: 0.4159 - accuracy: 0.8170 - val_loss: 0.4459 - val_accuracy: 0.8246\n",
      "Epoch 18/30\n",
      "125/125 [==============================] - 0s 2ms/step - loss: 0.4139 - accuracy: 0.8186 - val_loss: 0.4441 - val_accuracy: 0.8246\n",
      "Epoch 19/30\n",
      "125/125 [==============================] - 0s 2ms/step - loss: 0.4120 - accuracy: 0.8218 - val_loss: 0.4429 - val_accuracy: 0.8321\n",
      "Epoch 20/30\n",
      "125/125 [==============================] - 0s 2ms/step - loss: 0.4100 - accuracy: 0.8186 - val_loss: 0.4413 - val_accuracy: 0.8284\n",
      "Epoch 21/30\n",
      "125/125 [==============================] - 0s 2ms/step - loss: 0.4077 - accuracy: 0.8202 - val_loss: 0.4396 - val_accuracy: 0.8284\n",
      "Epoch 22/30\n",
      "125/125 [==============================] - 0s 2ms/step - loss: 0.4053 - accuracy: 0.8202 - val_loss: 0.4379 - val_accuracy: 0.8321\n",
      "Epoch 23/30\n",
      "125/125 [==============================] - 0s 2ms/step - loss: 0.4040 - accuracy: 0.8266 - val_loss: 0.4371 - val_accuracy: 0.8284\n",
      "Epoch 24/30\n",
      "125/125 [==============================] - 0s 2ms/step - loss: 0.4025 - accuracy: 0.8234 - val_loss: 0.4358 - val_accuracy: 0.8321\n",
      "Epoch 25/30\n",
      "125/125 [==============================] - 0s 2ms/step - loss: 0.4007 - accuracy: 0.8299 - val_loss: 0.4341 - val_accuracy: 0.8358\n",
      "Epoch 26/30\n",
      "125/125 [==============================] - 0s 2ms/step - loss: 0.3992 - accuracy: 0.8299 - val_loss: 0.4332 - val_accuracy: 0.8321\n",
      "Epoch 27/30\n",
      "125/125 [==============================] - 0s 2ms/step - loss: 0.3974 - accuracy: 0.8331 - val_loss: 0.4309 - val_accuracy: 0.8321\n",
      "Epoch 28/30\n",
      "125/125 [==============================] - 0s 2ms/step - loss: 0.3955 - accuracy: 0.8347 - val_loss: 0.4305 - val_accuracy: 0.8321\n",
      "Epoch 29/30\n",
      "125/125 [==============================] - 0s 2ms/step - loss: 0.3945 - accuracy: 0.8331 - val_loss: 0.4285 - val_accuracy: 0.8321\n",
      "Epoch 30/30\n",
      "125/125 [==============================] - 0s 2ms/step - loss: 0.3934 - accuracy: 0.8363 - val_loss: 0.4275 - val_accuracy: 0.8321\n"
     ]
    }
   ],
   "source": [
    "hst = mdl.fit(x_train_nor,y_train,epochs = 30, batch_size = 5, validation_data=(xcv,ycv))"
   ]
  },
  {
   "cell_type": "code",
   "execution_count": 199,
   "id": "239338f9",
   "metadata": {},
   "outputs": [
    {
     "name": "stdout",
     "output_type": "stream",
     "text": [
      "20/20 [==============================] - 0s 1ms/step - loss: 0.3902 - accuracy: 0.8363\n"
     ]
    },
    {
     "data": {
      "text/plain": [
       "0.8362760543823242"
      ]
     },
     "execution_count": 199,
     "metadata": {},
     "output_type": "execute_result"
    }
   ],
   "source": [
    "mdl.evaluate(x_train_nor,y_train)[1]"
   ]
  },
  {
   "cell_type": "code",
   "execution_count": 200,
   "id": "5119a177",
   "metadata": {},
   "outputs": [
    {
     "name": "stdout",
     "output_type": "stream",
     "text": [
      "9/9 [==============================] - 0s 1ms/step - loss: 0.4275 - accuracy: 0.8321\n"
     ]
    },
    {
     "data": {
      "text/plain": [
       "0.8320895433425903"
      ]
     },
     "execution_count": 200,
     "metadata": {},
     "output_type": "execute_result"
    }
   ],
   "source": [
    "mdl.evaluate(xcv,ycv)[1]"
   ]
  },
  {
   "cell_type": "code",
   "execution_count": 201,
   "id": "a055663e",
   "metadata": {},
   "outputs": [
    {
     "data": {
      "image/png": "[encoded data removed]",
      "text/plain": [
       "<Figure size 864x864 with 1 Axes>"
      ]
     },
     "metadata": {},
     "output_type": "display_data"
    }
   ],
   "source": [
    "log = hst.history\n",
    "plt.figure(figsize=(12,12))\n",
    "plt.style.use('seaborn')\n",
    "plt.plot(log['accuracy'],label = 'train_loss')\n",
    "plt.plot(log['val_accuracy'], label = 'cv_loss')\n",
    "plt.legend()\n",
    "plt.show()"
   ]
  },
  {
   "cell_type": "code",
   "execution_count": 202,
   "id": "faa873c1",
   "metadata": {},
   "outputs": [],
   "source": [
    "xt = (xt-mu)/sd"
   ]
  },
  {
   "cell_type": "code",
   "execution_count": 203,
   "id": "8dbbd475",
   "metadata": {},
   "outputs": [
    {
     "name": "stdout",
     "output_type": "stream",
     "text": [
      "14/14 [==============================] - 0s 1ms/step - loss: 7.1567e-10 - accuracy: 1.0000\n"
     ]
    },
    {
     "data": {
      "text/plain": [
       "[7.156731873791955e-10, 1.0]"
      ]
     },
     "execution_count": 203,
     "metadata": {},
     "output_type": "execute_result"
    }
   ],
   "source": [
    "mdl.evaluate(xt,y_test)"
   ]
  },
  {
   "cell_type": "code",
   "execution_count": 206,
   "id": "8b382977",
   "metadata": {},
   "outputs": [],
   "source": [
    "yre = mdl.predict(xt)>0.5\n",
    "yre = yre.flatten()"
   ]
  },
  {
   "cell_type": "code",
   "execution_count": 208,
   "id": "877a32bb",
   "metadata": {},
   "outputs": [
    {
     "data": {
      "text/html": [
       "<div>\n",
       "<style scoped>\n",
       "    .dataframe tbody tr th:only-of-type {\n",
       "        vertical-align: middle;\n",
       "    }\n",
       "\n",
       "    .dataframe tbody tr th {\n",
       "        vertical-align: top;\n",
       "    }\n",
       "\n",
       "    .dataframe thead th {\n",
       "        text-align: right;\n",
       "    }\n",
       "</style>\n",
       "<table border=\"1\" class=\"dataframe\">\n",
       "  <thead>\n",
       "    <tr style=\"text-align: right;\">\n",
       "      <th></th>\n",
       "      <th>Survived</th>\n",
       "      <th>Pclass</th>\n",
       "      <th>Sex</th>\n",
       "      <th>Age</th>\n",
       "      <th>SibSp</th>\n",
       "      <th>Parch</th>\n",
       "      <th>Fare</th>\n",
       "      <th>Embarked</th>\n",
       "    </tr>\n",
       "  </thead>\n",
       "  <tbody>\n",
       "    <tr>\n",
       "      <th>0</th>\n",
       "      <td>0</td>\n",
       "      <td>2</td>\n",
       "      <td>0</td>\n",
       "      <td>30.000000</td>\n",
       "      <td>0</td>\n",
       "      <td>0</td>\n",
       "      <td>13.0000</td>\n",
       "      <td>0</td>\n",
       "    </tr>\n",
       "    <tr>\n",
       "      <th>1</th>\n",
       "      <td>1</td>\n",
       "      <td>3</td>\n",
       "      <td>1</td>\n",
       "      <td>29.699118</td>\n",
       "      <td>1</td>\n",
       "      <td>0</td>\n",
       "      <td>16.1000</td>\n",
       "      <td>0</td>\n",
       "    </tr>\n",
       "    <tr>\n",
       "      <th>2</th>\n",
       "      <td>0</td>\n",
       "      <td>2</td>\n",
       "      <td>0</td>\n",
       "      <td>25.000000</td>\n",
       "      <td>0</td>\n",
       "      <td>0</td>\n",
       "      <td>13.0000</td>\n",
       "      <td>0</td>\n",
       "    </tr>\n",
       "    <tr>\n",
       "      <th>3</th>\n",
       "      <td>0</td>\n",
       "      <td>3</td>\n",
       "      <td>0</td>\n",
       "      <td>2.000000</td>\n",
       "      <td>4</td>\n",
       "      <td>1</td>\n",
       "      <td>39.6875</td>\n",
       "      <td>0</td>\n",
       "    </tr>\n",
       "    <tr>\n",
       "      <th>4</th>\n",
       "      <td>0</td>\n",
       "      <td>3</td>\n",
       "      <td>0</td>\n",
       "      <td>14.000000</td>\n",
       "      <td>4</td>\n",
       "      <td>1</td>\n",
       "      <td>39.6875</td>\n",
       "      <td>0</td>\n",
       "    </tr>\n",
       "    <tr>\n",
       "      <th>...</th>\n",
       "      <td>...</td>\n",
       "      <td>...</td>\n",
       "      <td>...</td>\n",
       "      <td>...</td>\n",
       "      <td>...</td>\n",
       "      <td>...</td>\n",
       "      <td>...</td>\n",
       "      <td>...</td>\n",
       "    </tr>\n",
       "    <tr>\n",
       "      <th>618</th>\n",
       "      <td>1</td>\n",
       "      <td>2</td>\n",
       "      <td>1</td>\n",
       "      <td>34.000000</td>\n",
       "      <td>0</td>\n",
       "      <td>1</td>\n",
       "      <td>23.0000</td>\n",
       "      <td>0</td>\n",
       "    </tr>\n",
       "    <tr>\n",
       "      <th>619</th>\n",
       "      <td>0</td>\n",
       "      <td>1</td>\n",
       "      <td>0</td>\n",
       "      <td>50.000000</td>\n",
       "      <td>1</td>\n",
       "      <td>0</td>\n",
       "      <td>106.4250</td>\n",
       "      <td>1</td>\n",
       "    </tr>\n",
       "    <tr>\n",
       "      <th>620</th>\n",
       "      <td>0</td>\n",
       "      <td>2</td>\n",
       "      <td>0</td>\n",
       "      <td>23.000000</td>\n",
       "      <td>0</td>\n",
       "      <td>0</td>\n",
       "      <td>13.0000</td>\n",
       "      <td>0</td>\n",
       "    </tr>\n",
       "    <tr>\n",
       "      <th>621</th>\n",
       "      <td>0</td>\n",
       "      <td>2</td>\n",
       "      <td>0</td>\n",
       "      <td>27.000000</td>\n",
       "      <td>0</td>\n",
       "      <td>0</td>\n",
       "      <td>13.0000</td>\n",
       "      <td>0</td>\n",
       "    </tr>\n",
       "    <tr>\n",
       "      <th>622</th>\n",
       "      <td>0</td>\n",
       "      <td>3</td>\n",
       "      <td>1</td>\n",
       "      <td>40.000000</td>\n",
       "      <td>1</td>\n",
       "      <td>0</td>\n",
       "      <td>9.4750</td>\n",
       "      <td>0</td>\n",
       "    </tr>\n",
       "  </tbody>\n",
       "</table>\n",
       "<p>623 rows × 8 columns</p>\n",
       "</div>"
      ],
      "text/plain": [
       "     Survived  Pclass  Sex        Age  SibSp  Parch      Fare  Embarked\n",
       "0           0       2    0  30.000000      0      0   13.0000         0\n",
       "1           1       3    1  29.699118      1      0   16.1000         0\n",
       "2           0       2    0  25.000000      0      0   13.0000         0\n",
       "3           0       3    0   2.000000      4      1   39.6875         0\n",
       "4           0       3    0  14.000000      4      1   39.6875         0\n",
       "..        ...     ...  ...        ...    ...    ...       ...       ...\n",
       "618         1       2    1  34.000000      0      1   23.0000         0\n",
       "619         0       1    0  50.000000      1      0  106.4250         1\n",
       "620         0       2    0  23.000000      0      0   13.0000         0\n",
       "621         0       2    0  27.000000      0      0   13.0000         0\n",
       "622         0       3    1  40.000000      1      0    9.4750         0\n",
       "\n",
       "[623 rows x 8 columns]"
      ]
     },
     "execution_count": 208,
     "metadata": {},
     "output_type": "execute_result"
    }
   ],
   "source": [
    "x_train"
   ]
  },
  {
   "cell_type": "code",
   "execution_count": 209,
   "id": "755ea0eb",
   "metadata": {},
   "outputs": [
    {
     "data": {
      "text/plain": [
       "RandomForestClassifier(criterion='entropy', max_depth=5, n_estimators=15)"
      ]
     },
     "execution_count": 209,
     "metadata": {},
     "output_type": "execute_result"
    }
   ],
   "source": [
    "rf = RandomForestClassifier(n_estimators=15,criterion='entropy',max_depth=5)\n",
    "rf.fit(x_train[cols],x_train[target_col])"
   ]
  },
  {
   "cell_type": "code",
   "execution_count": 213,
   "id": "7b765e62",
   "metadata": {},
   "outputs": [
    {
     "name": "stdout",
     "output_type": "stream",
     "text": [
      "0.8683788121990369\n"
     ]
    }
   ],
   "source": [
    "print ( rf.score(x_train[cols],x_train[target_col]) )"
   ]
  },
  {
   "cell_type": "code",
   "execution_count": 214,
   "id": "4ac992a3",
   "metadata": {},
   "outputs": [
    {
     "name": "stdout",
     "output_type": "stream",
     "text": [
      "0.8283582089552238\n"
     ]
    }
   ],
   "source": [
    "print ( rf.score(x_cv[cols],x_cv[target_col]) ) "
   ]
  },
  {
   "cell_type": "code",
   "execution_count": 215,
   "id": "189e9199",
   "metadata": {},
   "outputs": [
    {
     "name": "stdout",
     "output_type": "stream",
     "text": [
      "0.861244019138756\n"
     ]
    }
   ],
   "source": [
    "print ( rf.score(test_data[cols],y_test) ) "
   ]
  },
  {
   "cell_type": "code",
   "execution_count": null,
   "id": "304d9e62",
   "metadata": {},
   "outputs": [],
   "source": []
  }
 ],
 "metadata": {
  "kernelspec": {
   "display_name": "Python 3 (ipykernel)",
   "language": "python",
   "name": "python3"
  },
  "language_info": {
   "codemirror_mode": {
    "name": "ipython",
    "version": 3
   },
   "file_extension": ".py",
   "mimetype": "text/x-python",
   "name": "python",
   "nbconvert_exporter": "python",
   "pygments_lexer": "ipython3",
   "version": "3.9.9"
  }
 },
 "nbformat": 4,
 "nbformat_minor": 5
}
